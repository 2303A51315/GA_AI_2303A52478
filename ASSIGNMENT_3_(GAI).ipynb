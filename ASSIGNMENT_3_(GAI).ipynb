{
  "nbformat": 4,
  "nbformat_minor": 0,
  "metadata": {
    "colab": {
      "provenance": [],
      "authorship_tag": "ABX9TyN5NClqnuuejU4k6ZBlRQ60",
      "include_colab_link": true
    },
    "kernelspec": {
      "name": "python3",
      "display_name": "Python 3"
    },
    "language_info": {
      "name": "python"
    }
  },
  "cells": [
    {
      "cell_type": "markdown",
      "metadata": {
        "id": "view-in-github",
        "colab_type": "text"
      },
      "source": [
        "<a href=\"https://colab.research.google.com/github/2303A51315/GA_AI_2303A52478/blob/main/ASSIGNMENT_3_(GAI).ipynb\" target=\"_parent\"><img src=\"https://colab.research.google.com/assets/colab-badge.svg\" alt=\"Open In Colab\"/></a>"
      ]
    },
    {
      "cell_type": "markdown",
      "source": [
        "\n",
        "1. (1 ponto) Write Python code without using any libraries to find the value of x at which the\n",
        "function f(x) shown in equation (1) has minimum value. Consider Gradient Descent Algorithm.\n",
        "f (x) = 5x4 + 3x2 + 10"
      ],
      "metadata": {
        "id": "7u83UzHKC5Q-"
      }
    },
    {
      "cell_type": "code",
      "source": [
        "# Function definition\n",
        "def f(x):\n",
        "    return 5 * x**4 + 3 * x**2 + 10\n",
        "\n",
        "# Derivative of the function f(x)\n",
        "def df(x):\n",
        "    return 20 * x**3 + 6 * x\n",
        "\n",
        "# Gradient Descent Algorithm to minimize f(x)\n",
        "def gradient_descent(f, df, x_start, learning_rate, num_iterations):\n",
        "    x = x_start\n",
        "    for _ in range(num_iterations):\n",
        "        x = x - learning_rate * df(x)\n",
        "    return x\n",
        "\n",
        "# Initial guess for x\n",
        "x_start = 0.5\n",
        "learning_rate = 0.01\n",
        "num_iterations = 1000\n",
        "\n",
        "# Find the minimum\n",
        "x_min = gradient_descent(f, df, x_start, learning_rate, num_iterations)\n",
        "print(f\"Minimum value of x: {x_min}\")"
      ],
      "metadata": {
        "colab": {
          "base_uri": "https://localhost:8080/"
        },
        "id": "Z0RSv45mC_Ml",
        "outputId": "59872f87-b984-4dfc-a9fa-0b47d31eb425"
      },
      "execution_count": 1,
      "outputs": [
        {
          "output_type": "stream",
          "name": "stdout",
          "text": [
            "Minimum value of x: 4.810419162406747e-28\n"
          ]
        }
      ]
    },
    {
      "cell_type": "markdown",
      "source": [
        "2. (1 ponto) Write Python code without using any libraries to find the value of x and y at which the\n",
        "function g(x,y) shown in equation (2) has minimum value. Consider Gradient Descent Algorithm.\n",
        "f (x) = 3x2 + 5e−y + 10 (2)\n",
        "[link text](https://)"
      ],
      "metadata": {
        "id": "_oB7VRcKCpNt"
      }
    },
    {
      "cell_type": "code",
      "source": [
        "import math\n",
        "\n",
        "# Function definition\n",
        "def g(x, y):\n",
        "    return 3 * x**2 + 5 * math.exp(-y) + 10\n",
        "\n",
        "# Partial derivatives\n",
        "def dg_dx(x, y):\n",
        "    return 6 * x\n",
        "\n",
        "def dg_dy(x, y):\n",
        "    return -5 * math.exp(-y)\n",
        "\n",
        "# Gradient Descent Algorithm to minimize g(x, y)\n",
        "def gradient_descent_2d(g, dg_dx, dg_dy, x_start, y_start, learning_rate, num_iterations):\n",
        "    x, y = x_start, y_start\n",
        "    for _ in range(num_iterations):\n",
        "        x = x - learning_rate * dg_dx(x, y)\n",
        "        y = y - learning_rate * dg_dy(x, y)\n",
        "    return x, y\n",
        "\n",
        "# Initial guesses for x and y\n",
        "x_start = 0.5\n",
        "y_start = 0.5\n",
        "learning_rate = 0.01\n",
        "num_iterations = 1000\n",
        "\n",
        "# Find the minimum\n",
        "x_min, y_min = gradient_descent_2d(g, dg_dx, dg_dy, x_start, y_start, learning_rate, num_iterations)\n",
        "print(f\"Minimum values: x = {x_min}, y = {y_min}\")"
      ],
      "metadata": {
        "colab": {
          "base_uri": "https://localhost:8080/"
        },
        "id": "WLbQ3sOzDh2F",
        "outputId": "3c098148-996c-44b5-c650-45a107db797e"
      },
      "execution_count": 2,
      "outputs": [
        {
          "output_type": "stream",
          "name": "stdout",
          "text": [
            "Minimum values: x = 6.711561962466847e-28, y = 3.946136898667322\n"
          ]
        }
      ]
    },
    {
      "cell_type": "markdown",
      "source": [
        "3. (1 ponto) Write Python code without using any libraries to find the value of x at which the\n",
        "sigmoid function z(x) shown in equation (3) has minimum value. Consider Gradient Descent\n",
        "Algorithm.\n",
        "z(x) = 1/1 + e−x\n"
      ],
      "metadata": {
        "id": "J5zTvIp4Dq0d"
      }
    },
    {
      "cell_type": "code",
      "source": [
        "import math\n",
        "\n",
        "# Function definition (sigmoid function)\n",
        "def z(x):\n",
        "    return 1 / (1 + math.exp(-x))\n",
        "\n",
        "# Derivative of the sigmoid function\n",
        "def dz_dx(x):\n",
        "    sigmoid = z(x)\n",
        "    return sigmoid * (1 - sigmoid)\n",
        "\n",
        "# Gradient Descent Algorithm to minimize z(x)\n",
        "def gradient_descent_sigmoid(z, dz_dx, x_start, learning_rate, num_iterations):\n",
        "    x = x_start\n",
        "    for _ in range(num_iterations):\n",
        "        x = x - learning_rate * dz_dx(x)\n",
        "    return x\n",
        "\n",
        "# Initial guess for x\n",
        "x_start = 0.5\n",
        "learning_rate = 0.01\n",
        "num_iterations = 1000\n",
        "\n",
        "# Find the minimum\n",
        "x_min = gradient_descent_sigmoid(z, dz_dx, x_start, learning_rate, num_iterations)\n",
        "print(f\"Minimum value of x: {x_min}\")"
      ],
      "metadata": {
        "colab": {
          "base_uri": "https://localhost:8080/"
        },
        "id": "F_ubhWF_D5P1",
        "outputId": "f8f12c00-8139-4c93-8ffd-9796dc776482"
      },
      "execution_count": 3,
      "outputs": [
        {
          "output_type": "stream",
          "name": "stdout",
          "text": [
            "Minimum value of x: -1.6012957791750413\n"
          ]
        }
      ]
    },
    {
      "cell_type": "markdown",
      "source": [
        "4. (1 ponto) Write Python code without using any libraries to find the value of optimal values of\n",
        "model parameters M and C such that the model’s Square Error Value shown in equation 4 will\n",
        "be minimum. It means model gives output close to expected output as shown in"
      ],
      "metadata": {
        "id": "dWtUKxUEECgd"
      }
    },
    {
      "cell_type": "code",
      "source": [
        "# Sample data (x, ExpectedOutput)\n",
        "data = [(1, 5), (2, 7), (3, 9), (4, 11)]\n",
        "\n",
        "# Function definition for SE\n",
        "def SE(M, C, data):\n",
        "    error = 0\n",
        "    for x, expected in data:\n",
        "        predicted = M * x + C\n",
        "        error += (expected - predicted)**2\n",
        "    return error\n",
        "\n",
        "# Derivatives of SE\n",
        "def dSE_dM(M, C, data):\n",
        "    grad_M = 0\n",
        "    for x, expected in data:\n",
        "        predicted = M * x + C\n",
        "        grad_M += -2 * x * (expected - predicted)\n",
        "    return grad_M\n",
        "\n",
        "def dSE_dC(M, C, data):\n",
        "    grad_C = 0\n",
        "    for x, expected in data:\n",
        "        predicted = M * x + C\n",
        "        grad_C += -2 * (expected - predicted)\n",
        "    return grad_C\n",
        "\n",
        "# Gradient Descent Algorithm to minimize SE\n",
        "def gradient_descent_linear(data, dSE_dM, dSE_dC, M_start, C_start, learning_rate, num_iterations):\n",
        "    M, C = M_start, C_start\n",
        "    for _ in range(num_iterations):\n",
        "        M = M - learning_rate * dSE_dM(M, C, data)\n",
        "        C = C - learning_rate * dSE_dC(M, C, data)\n",
        "    return M, C\n",
        "\n",
        "# Initial guesses for M and C\n",
        "M_start = 0.0\n",
        "C_start = 0.0\n",
        "learning_rate = 0.01\n",
        "num_iterations = 1000\n",
        "\n",
        "# Find the optimal M and C\n",
        "M_opt, C_opt = gradient_descent_linear(data, dSE_dM, dSE_dC, M_start, C_start, learning_rate, num_iterations)\n",
        "print(f\"Optimal values: M = {M_opt}, C = {C_opt}\")"
      ],
      "metadata": {
        "colab": {
          "base_uri": "https://localhost:8080/"
        },
        "id": "cPZ28FvmEKoF",
        "outputId": "967f764d-0d7c-4290-8577-34c72dde8911"
      },
      "execution_count": 4,
      "outputs": [
        {
          "output_type": "stream",
          "name": "stdout",
          "text": [
            "Optimal values: M = 2.000002363705538, C = 2.999993059618899\n"
          ]
        }
      ]
    }
  ]
}